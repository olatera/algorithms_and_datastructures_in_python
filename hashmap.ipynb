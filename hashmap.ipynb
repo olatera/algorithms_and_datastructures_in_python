{
 "cells": [
  {
   "cell_type": "markdown",
   "metadata": {},
   "source": [
    "# Реализация словаря на Python"
   ]
  },
  {
   "cell_type": "markdown",
   "metadata": {},
   "source": [
    "Здесь я покажу,как создать словарь(dict),используя список.\n",
    "\n",
    "Словарь в Python является ассоциативным массивом, то есть хранит данные в виде пар (ключ, значение). Словарь – измененяемый тип данных. Это значит, что в него можно добавлять элементы, изменять их и удалять из словаря. Он также предоставляет операцию поиска и возвращения элемента по ключу.\n",
    "Как известно, реализация хэш-таблицы должна учитывать возможность появления коллизий – ситуаций, когда разные ключи имеют одинаковое значение хэша. Должен быть способ вставки и извлечения элементов с учётом коллизий.\n",
    "В моем примере hashmap является списком списков(бакетов),которые в свою очередь,являются списком кортежей(слотов),содержащие в себе пары ключ-значение.\n",
    "Пример структуры:"
   ]
  },
  {
   "cell_type": "code",
   "execution_count": 1,
   "metadata": {
    "collapsed": false
   },
   "outputs": [
    {
     "data": {
      "text/plain": [
       "[[('key1', 'value')],\n",
       " [('key2', 'value'), ('key5', 'value')],\n",
       " [('key3', 'value')],\n",
       " [('key4', 'value')]]"
      ]
     },
     "execution_count": 1,
     "metadata": {},
     "output_type": "execute_result"
    }
   ],
   "source": [
    "[\n",
    "    [(\"key1\",\"value\")],\n",
    "    [(\"key2\",\"value\"),(\"key5\",\"value\")],\n",
    "    [(\"key3\",\"value\")],\n",
    "    [(\"key4\",\"value\")]\n",
    "]"
   ]
  },
  {
   "cell_type": "markdown",
   "metadata": {},
   "source": [
    "Смысл в том,что каждый слот,внутри бакета содержит (key, value)кортеж или \"пару\".\n",
    "Теперь,когда нам понятно,как мы будем структурировать данные,нам просто необходимо понять алгоритм работы с каждой операцией.В общем понимании,это :\n",
    "\n",
    "\n",
    "Преобразование ключа в целое число с помощью функции хэширования: hash_key.\n",
    "\n",
    "Преобразовать этот хэш в индекс бакета с помощью операции - остаток от деления.\n",
    "\n",
    "Получить этот бакет из списка aMap, а затем найти именно тот слот, который содержит искомый ключ.\n",
    "\n",
    "В случае set мы делаем это, чтобы заменить дубликат ключей,или для добавления новых.\n"
   ]
  },
  {
   "cell_type": "markdown",
   "metadata": {},
   "source": [
    "# new\n",
    "Сначала создаю функцию-конструктор. Я создала переменную aMap - пустой список, затем, положила num_buckets списков внутрь него.\n",
    "Эти бакеты будут использоваться для хранения содержимого hashmap, как набор(key, value). "
   ]
  },
  {
   "cell_type": "code",
   "execution_count": null,
   "metadata": {
    "collapsed": true
   },
   "outputs": [],
   "source": [
    "def new(num_buckets=256):\n",
    "    aMap = []\n",
    "    for i in range(0, num_buckets):\n",
    "        aMap.append([])\n",
    "    return aMap"
   ]
  },
  {
   "cell_type": "markdown",
   "metadata": {},
   "source": [
    "# hash_key\n",
    "Это обманчиво простая функция- ядро, показывающее, как словарь работает. Она использует, встроенную в Python хэш-функцию для преобразования строки в число.\n",
    "Я использую остаток от деления хэша ключа на длину aMap, чтобы получить бакет с этим ключем."
   ]
  },
  {
   "cell_type": "code",
   "execution_count": 2,
   "metadata": {
    "collapsed": true
   },
   "outputs": [],
   "source": [
    "def hash_key(aMap, key):\n",
    "    return hash(key) % len(aMap)"
   ]
  },
  {
   "cell_type": "markdown",
   "metadata": {},
   "source": [
    "# get_bucket\n",
    "Эта функция использует hash_key, чтобы найти бакет, в котором может быть ключ.Так как я использовала  % len(aMap), я знаю, что bucket_id который я получаю впишется в дипазон индексов aMap.Потом, используя bucket_id я смогу получить бакет, где хранится ключ."
   ]
  },
  {
   "cell_type": "code",
   "execution_count": null,
   "metadata": {
    "collapsed": true
   },
   "outputs": [],
   "source": [
    "def get_bucket(aMap, key):\n",
    "    bucket_id = hash_key(aMap, key)\n",
    "    return aMap[bucket_id]"
   ]
  },
  {
   "cell_type": "markdown",
   "metadata": {},
   "source": [
    "# get_slot\n",
    "Эта функция использует get_bucket чтобы получить бакет, и затем она проходится через каждый его элемент, пока не найдет соответствующий ключ.Как только это происходит,она возвращает кортеж (i, k, v) в котором хранится индекс, ключ, значение.\n"
   ]
  },
  {
   "cell_type": "code",
   "execution_count": null,
   "metadata": {
    "collapsed": true
   },
   "outputs": [],
   "source": [
    "def get_slot(aMap, key, default=None):\n",
    "    bucket = get_bucket(aMap, key)\n",
    "\n",
    "    for i, kv in enumerate(bucket):\n",
    "        k, v = kv\n",
    "        if key == k:\n",
    "            return i, k, v\n",
    "\n",
    "    return -1, key, default"
   ]
  },
  {
   "cell_type": "markdown",
   "metadata": {
    "collapsed": true
   },
   "source": [
    "# get\n",
    "Это \"удобная\" функциия, которая делает то, что большинство людей хотят от HashMap. Она использует get_slot чтобы получить (i, к, v), а затем просто возвращает только V (значение).  "
   ]
  },
  {
   "cell_type": "code",
   "execution_count": null,
   "metadata": {
    "collapsed": true
   },
   "outputs": [],
   "source": [
    "def get(aMap, key, default=None):\n",
    "    i, k, v = get_slot(aMap, key, default=default)\n",
    "    return v  "
   ]
  },
  {
   "cell_type": "markdown",
   "metadata": {},
   "source": [
    "# set\n",
    "Чтобы установить пару ключ / значение все, что нужно сделать, это получить бакет, и добавить новую пару(ключ, значение) к нему, чтобы он мог быть найден позже.Тем не менее, я хочу, чтобы мой HashMap, позволял иметь только один ключ одновременно. Чтобы сделать это, сначала я должна найти бакет, затем проверить, может этот ключ уже существует.Если существует, то я заменяю его, а если нет, то добавляю новый."
   ]
  },
  {
   "cell_type": "code",
   "execution_count": 3,
   "metadata": {
    "collapsed": true
   },
   "outputs": [],
   "source": [
    "def set(aMap, key, value):\n",
    "    bucket = get_bucket(aMap, key)\n",
    "    i, k, v = get_slot(aMap, key)\n",
    "\n",
    "    if i >= 0:\n",
    "        # ключ существует, заменить его\n",
    "        bucket[i] = (key, value)\n",
    "    else:\n",
    "        # ключ не найден,добавьте,тем самым создав его\n",
    "        bucket.append((key, value))"
   ]
  },
  {
   "cell_type": "markdown",
   "metadata": {},
   "source": [
    "# delete\n",
    "Чтобы удалить ключ, надо сначала использовать функцию get_bucket и далее искать ключ в нем,затем удалить его из списка. "
   ]
  },
  {
   "cell_type": "code",
   "execution_count": null,
   "metadata": {
    "collapsed": true
   },
   "outputs": [],
   "source": [
    "def delete(aMap, key):\n",
    "    bucket = get_bucket(aMap, key)\n",
    "\n",
    "    for i in xrange(len(bucket)):\n",
    "        k, v = bucket[i]\n",
    "        if key == k:\n",
    "            del bucket[i]\n",
    "            break\n"
   ]
  },
  {
   "cell_type": "markdown",
   "metadata": {},
   "source": [
    "#  list\n",
    "Последняя функция которая выводит содержимое hashmap. Она получает каждый бакет, а затем проходит через каждый слот в бакете."
   ]
  },
  {
   "cell_type": "code",
   "execution_count": null,
   "metadata": {
    "collapsed": true
   },
   "outputs": [],
   "source": [
    "def list(aMap):\n",
    "    for bucket in aMap:\n",
    "        if bucket:\n",
    "            for k, v in bucket:\n",
    "                print k, v"
   ]
  },
  {
   "cell_type": "markdown",
   "metadata": {},
   "source": []
  },
  {
   "cell_type": "code",
   "execution_count": 2,
   "metadata": {
    "collapsed": false
   },
   "outputs": [],
   "source": [
    "class hash_map(object):\n",
    "    def __init__(self,num_buckets=256):\n",
    "        \n",
    "        aMap = []\n",
    "        for i in range(0, num_buckets):\n",
    "            aMap.append([])\n",
    "        self.aMap = aMap\n",
    "        \n",
    "    def hash_key(self, key):\n",
    "        return hash(key) % len(self.aMap)\n",
    "    \n",
    "    def get_bucket(self, key):\n",
    "        bucket_id = self.hash_key( key)\n",
    "        return self.aMap[bucket_id] \n",
    "   \n",
    "    \n",
    "    def get_slot(self, key, default=None):\n",
    "        bucket = self.get_bucket( key)\n",
    "\n",
    "        for i, kv in enumerate(bucket):\n",
    "            k, v = kv\n",
    "            if key == k:\n",
    "                return i, k, v\n",
    "\n",
    "        return -1, key, default\n",
    "    \n",
    "\n",
    "    def get(self, key, default=None):\n",
    "        i, k, v = self.get_slot( key, default=default)\n",
    "        return v\n",
    "    \n",
    "    def set(self, key, value):\n",
    "        bucket = self.get_bucket( key)\n",
    "        i, k, v = self.get_slot( key)\n",
    "\n",
    "        if i >= 0:\n",
    "            # ключ существует, заменить его\n",
    "            bucket[i] = (key, value)\n",
    "        else:\n",
    "            # ключ не найден,добавьте,тем самым создав его\n",
    "            bucket.append((key, value))\n",
    "    \n",
    "    def delete(self, key):\n",
    "        bucket = self.get_bucket( key)\n",
    "\n",
    "        for i in range(len(bucket)):\n",
    "            k, v = bucket[i]\n",
    "            if key == k:\n",
    "                del bucket[i]\n",
    "                break\n",
    "\n",
    "\n",
    "    def __str__(self):\n",
    "        res = \"[ \\n \"\n",
    "        for bucket in self.aMap:\n",
    "            res += \" [ \"\n",
    "            for kv in bucket:\n",
    "                res += \" \" + str(kv) + \" \"\n",
    "            res += \" ], \\n \"\n",
    "        res += \" ] \\n \"\n",
    "            \n",
    "        return res\n",
    "\n",
    "    def __repr__(self):\n",
    "        return self.__str__()"
   ]
  },
  {
   "cell_type": "markdown",
   "metadata": {},
   "source": [
    "#### Протестируем класс"
   ]
  },
  {
   "cell_type": "code",
   "execution_count": 3,
   "metadata": {
    "collapsed": false
   },
   "outputs": [],
   "source": [
    "hm = hash_map(8)"
   ]
  },
  {
   "cell_type": "code",
   "execution_count": 5,
   "metadata": {
    "collapsed": false
   },
   "outputs": [],
   "source": [
    "hm.set(\"tom\",\"fish\")\n",
    "hm.set(\"jerry\",\"cheese\")\n",
    "hm.set(\"bob\",\"bone\")\n",
    "hm.set(\"chip\",\"nuts\")"
   ]
  },
  {
   "cell_type": "code",
   "execution_count": 6,
   "metadata": {
    "collapsed": false
   },
   "outputs": [
    {
     "name": "stdout",
     "output_type": "stream",
     "text": [
      "[ \n",
      "  [  ('bob', 'bone')  ], \n",
      "  [  ], \n",
      "  [  ], \n",
      "  [  ], \n",
      "  [  ('chip', 'nuts')  ], \n",
      "  [  ], \n",
      "  [  ('tom', 'fish')  ('jerry', 'cheese')  ], \n",
      "  [  ], \n",
      "  ] \n",
      " \n"
     ]
    }
   ],
   "source": [
    "print(hm)"
   ]
  },
  {
   "cell_type": "code",
   "execution_count": 166,
   "metadata": {
    "collapsed": false
   },
   "outputs": [
    {
     "data": {
      "text/plain": [
       "'fish'"
      ]
     },
     "execution_count": 166,
     "metadata": {},
     "output_type": "execute_result"
    }
   ],
   "source": [
    "hm.get(\"tom\")"
   ]
  },
  {
   "cell_type": "code",
   "execution_count": 162,
   "metadata": {
    "collapsed": false
   },
   "outputs": [],
   "source": [
    "hm.delete(\"tom\")"
   ]
  },
  {
   "cell_type": "code",
   "execution_count": 156,
   "metadata": {
    "collapsed": false
   },
   "outputs": [
    {
     "name": "stdout",
     "output_type": "stream",
     "text": [
      "[ \n",
      "  [  ], \n",
      "  [  ], \n",
      "  [  ('jerry', 'cheese')  ], \n",
      "  [  ('bob', 'bone')  ], \n",
      "  [  ('dale', 'nuts')  ], \n",
      "  [  ], \n",
      "  [  ], \n",
      "  [  ('olya', 'ochky')  ], \n",
      "  ] \n",
      " \n"
     ]
    }
   ],
   "source": [
    "print(hm)"
   ]
  },
  {
   "cell_type": "markdown",
   "metadata": {},
   "source": [
    "#### протестируем производительность"
   ]
  },
  {
   "cell_type": "code",
   "execution_count": 182,
   "metadata": {
    "collapsed": true
   },
   "outputs": [],
   "source": [
    "hm = hash_map()"
   ]
  },
  {
   "cell_type": "markdown",
   "metadata": {},
   "source": [
    "для заполнения воспользуемся библиотекой для рандомной генерации данных https://github.com/joke2k/faker"
   ]
  },
  {
   "cell_type": "code",
   "execution_count": 188,
   "metadata": {
    "collapsed": true
   },
   "outputs": [],
   "source": [
    "from faker import Faker\n",
    "fake = Faker()"
   ]
  },
  {
   "cell_type": "code",
   "execution_count": 189,
   "metadata": {
    "collapsed": false,
    "scrolled": true
   },
   "outputs": [
    {
     "name": "stdout",
     "output_type": "stream",
     "text": [
      "Wall time: 0 ns\n",
      "Wall time: 0 ns\n",
      "Wall time: 0 ns\n",
      "Wall time: 1 ms\n",
      "Wall time: 0 ns\n",
      "Wall time: 0 ns\n",
      "Wall time: 0 ns\n",
      "Wall time: 500 µs\n",
      "Wall time: 0 ns\n",
      "Wall time: 0 ns\n",
      "Wall time: 0 ns\n",
      "Wall time: 0 ns\n",
      "Wall time: 1 ms\n",
      "Wall time: 1 ms\n",
      "Wall time: 0 ns\n",
      "Wall time: 0 ns\n",
      "Wall time: 0 ns\n",
      "Wall time: 0 ns\n",
      "Wall time: 0 ns\n",
      "Wall time: 0 ns\n",
      "Wall time: 0 ns\n",
      "Wall time: 0 ns\n",
      "Wall time: 0 ns\n",
      "Wall time: 0 ns\n",
      "Wall time: 0 ns\n",
      "Wall time: 0 ns\n",
      "Wall time: 0 ns\n",
      "Wall time: 0 ns\n",
      "Wall time: 0 ns\n",
      "Wall time: 0 ns\n",
      "Wall time: 0 ns\n",
      "Wall time: 0 ns\n",
      "Wall time: 0 ns\n",
      "Wall time: 0 ns\n",
      "Wall time: 0 ns\n",
      "Wall time: 0 ns\n",
      "Wall time: 0 ns\n",
      "Wall time: 0 ns\n",
      "Wall time: 0 ns\n",
      "Wall time: 0 ns\n",
      "Wall time: 0 ns\n",
      "Wall time: 0 ns\n",
      "Wall time: 500 µs\n",
      "Wall time: 0 ns\n",
      "Wall time: 0 ns\n",
      "Wall time: 0 ns\n",
      "Wall time: 0 ns\n",
      "Wall time: 0 ns\n",
      "Wall time: 501 µs\n",
      "Wall time: 0 ns\n",
      "Wall time: 0 ns\n",
      "Wall time: 0 ns\n",
      "Wall time: 0 ns\n",
      "Wall time: 0 ns\n",
      "Wall time: 501 µs\n",
      "Wall time: 0 ns\n",
      "Wall time: 500 µs\n",
      "Wall time: 509 µs\n",
      "Wall time: 0 ns\n",
      "Wall time: 0 ns\n",
      "Wall time: 0 ns\n",
      "Wall time: 500 µs\n",
      "Wall time: 0 ns\n",
      "Wall time: 0 ns\n",
      "Wall time: 0 ns\n",
      "Wall time: 0 ns\n",
      "Wall time: 0 ns\n",
      "Wall time: 489 µs\n",
      "Wall time: 501 µs\n",
      "Wall time: 0 ns\n",
      "Wall time: 501 µs\n",
      "Wall time: 0 ns\n",
      "Wall time: 0 ns\n",
      "Wall time: 0 ns\n",
      "Wall time: 0 ns\n",
      "Wall time: 501 µs\n",
      "Wall time: 0 ns\n",
      "Wall time: 0 ns\n",
      "Wall time: 0 ns\n",
      "Wall time: 0 ns\n",
      "Wall time: 0 ns\n",
      "Wall time: 0 ns\n",
      "Wall time: 0 ns\n",
      "Wall time: 0 ns\n",
      "Wall time: 500 µs\n",
      "Wall time: 499 µs\n",
      "Wall time: 0 ns\n",
      "Wall time: 0 ns\n",
      "Wall time: 0 ns\n",
      "Wall time: 0 ns\n",
      "Wall time: 0 ns\n",
      "Wall time: 0 ns\n",
      "Wall time: 0 ns\n",
      "Wall time: 0 ns\n",
      "Wall time: 0 ns\n",
      "Wall time: 0 ns\n",
      "Wall time: 500 µs\n",
      "Wall time: 0 ns\n",
      "Wall time: 500 µs\n",
      "Wall time: 0 ns\n"
     ]
    }
   ],
   "source": [
    "names = []\n",
    "for i in range(100):\n",
    "    key = fake.name()\n",
    "    names.append(key)\n",
    "    val = (float(fake.latitude()),float(fake.longitude()))\n",
    "    %%time hm.set(key,val)"
   ]
  },
  {
   "cell_type": "code",
   "execution_count": 190,
   "metadata": {
    "collapsed": false,
    "scrolled": true
   },
   "outputs": [
    {
     "name": "stdout",
     "output_type": "stream",
     "text": [
      "Wall time: 0 ns\n",
      "Wall time: 0 ns\n",
      "Wall time: 0 ns\n",
      "Wall time: 0 ns\n",
      "Wall time: 500 µs\n",
      "Wall time: 0 ns\n",
      "Wall time: 0 ns\n",
      "Wall time: 0 ns\n",
      "Wall time: 0 ns\n",
      "Wall time: 0 ns\n",
      "Wall time: 0 ns\n",
      "Wall time: 0 ns\n",
      "Wall time: 0 ns\n",
      "Wall time: 0 ns\n",
      "Wall time: 0 ns\n",
      "Wall time: 0 ns\n",
      "Wall time: 0 ns\n",
      "Wall time: 0 ns\n",
      "Wall time: 0 ns\n",
      "Wall time: 0 ns\n",
      "Wall time: 0 ns\n",
      "Wall time: 0 ns\n",
      "Wall time: 0 ns\n",
      "Wall time: 500 µs\n",
      "Wall time: 0 ns\n",
      "Wall time: 0 ns\n",
      "Wall time: 0 ns\n",
      "Wall time: 0 ns\n",
      "Wall time: 0 ns\n",
      "Wall time: 0 ns\n",
      "Wall time: 0 ns\n",
      "Wall time: 0 ns\n",
      "Wall time: 0 ns\n",
      "Wall time: 0 ns\n",
      "Wall time: 0 ns\n",
      "Wall time: 0 ns\n",
      "Wall time: 0 ns\n",
      "Wall time: 0 ns\n",
      "Wall time: 0 ns\n",
      "Wall time: 0 ns\n",
      "Wall time: 0 ns\n",
      "Wall time: 0 ns\n",
      "Wall time: 0 ns\n",
      "Wall time: 0 ns\n",
      "Wall time: 0 ns\n",
      "Wall time: 0 ns\n",
      "Wall time: 0 ns\n",
      "Wall time: 0 ns\n",
      "Wall time: 0 ns\n",
      "Wall time: 0 ns\n",
      "Wall time: 0 ns\n",
      "Wall time: 0 ns\n",
      "Wall time: 0 ns\n",
      "Wall time: 0 ns\n",
      "Wall time: 0 ns\n",
      "Wall time: 0 ns\n",
      "Wall time: 0 ns\n",
      "Wall time: 0 ns\n",
      "Wall time: 0 ns\n",
      "Wall time: 0 ns\n",
      "Wall time: 0 ns\n",
      "Wall time: 0 ns\n",
      "Wall time: 0 ns\n",
      "Wall time: 0 ns\n",
      "Wall time: 0 ns\n",
      "Wall time: 0 ns\n",
      "Wall time: 0 ns\n",
      "Wall time: 1 ms\n",
      "Wall time: 0 ns\n",
      "Wall time: 0 ns\n",
      "Wall time: 0 ns\n",
      "Wall time: 0 ns\n",
      "Wall time: 0 ns\n",
      "Wall time: 0 ns\n",
      "Wall time: 0 ns\n",
      "Wall time: 0 ns\n",
      "Wall time: 0 ns\n",
      "Wall time: 0 ns\n",
      "Wall time: 0 ns\n",
      "Wall time: 0 ns\n",
      "Wall time: 1e+03 µs\n",
      "Wall time: 0 ns\n",
      "Wall time: 0 ns\n",
      "Wall time: 0 ns\n",
      "Wall time: 0 ns\n",
      "Wall time: 0 ns\n",
      "Wall time: 0 ns\n",
      "Wall time: 0 ns\n",
      "Wall time: 0 ns\n",
      "Wall time: 0 ns\n",
      "Wall time: 0 ns\n",
      "Wall time: 0 ns\n",
      "Wall time: 0 ns\n",
      "Wall time: 0 ns\n",
      "Wall time: 0 ns\n",
      "Wall time: 0 ns\n",
      "Wall time: 0 ns\n",
      "Wall time: 0 ns\n",
      "Wall time: 0 ns\n",
      "Wall time: 0 ns\n"
     ]
    }
   ],
   "source": [
    "for i in names:\n",
    "     %%time hm.get(i)"
   ]
  },
  {
   "cell_type": "markdown",
   "metadata": {},
   "source": [
    "По результатам небольшого теста видно насколько быстро работает наш словарь.\n",
    "\n",
    "\n",
    "Вычислительная сложность основных операций :\n",
    "\n",
    "func   | best    | worst\n",
    "---    | ---     | ---\n",
    "get    |\tO(1) |\tO(n)\n",
    "set    |\tO(1) |\tO(n)\n",
    "delete    |\tO(1) |\tO(n)"
   ]
  }
 ],
 "metadata": {
  "kernelspec": {
   "display_name": "Python 3",
   "language": "python",
   "name": "python3"
  },
  "language_info": {
   "codemirror_mode": {
    "name": "ipython",
    "version": 3
   },
   "file_extension": ".py",
   "mimetype": "text/x-python",
   "name": "python",
   "nbconvert_exporter": "python",
   "pygments_lexer": "ipython3",
   "version": "3.4.4"
  }
 },
 "nbformat": 4,
 "nbformat_minor": 0
}
